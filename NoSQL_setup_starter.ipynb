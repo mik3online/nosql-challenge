{
 "cells": [
  {
   "cell_type": "markdown",
   "id": "9a57c4c6",
   "metadata": {},
   "source": [
    "# Eat Safe, Love"
   ]
  },
  {
   "cell_type": "markdown",
   "id": "064ef857",
   "metadata": {},
   "source": [
    "## Part 1: Database and Jupyter Notebook Set Up"
   ]
  },
  {
   "cell_type": "markdown",
   "id": "664e3c1f",
   "metadata": {},
   "source": [
    "Import the data provided in the `establishments.json` file from your Terminal. Name the database `uk_food` and the collection `establishments`.\n",
    "\n",
    "Within this markdown cell, copy the line of text you used to import the data from your Terminal. This way, future analysts will be able to repeat your process.\n",
    "\n",
    "e.g.: Import the dataset with: \n",
    "\n",
    "Step 1 - in TERMINAL navigate to:\n",
    "cd  [ your directory ] /nosql-challenge/Resources\n",
    "\n",
    "Step 2 - in TERMINAL type:\n",
    "mongoimport --db uk_food --collection establishments --file establishments.json --jsonArray"
   ]
  },
  {
   "cell_type": "code",
   "execution_count": 1,
   "id": "3ecdd008",
   "metadata": {},
   "outputs": [],
   "source": [
    "# 1 Import dependencies\n",
    "from pymongo import MongoClient\n",
    "from pprint import pprint"
   ]
  },
  {
   "cell_type": "code",
   "execution_count": 2,
   "id": "59390c4a",
   "metadata": {},
   "outputs": [],
   "source": [
    "# 2 Create an instance of MongoClient\n",
    "mongo = MongoClient(port=27017)"
   ]
  },
  {
   "cell_type": "code",
   "execution_count": 3,
   "id": "7f9ececa",
   "metadata": {},
   "outputs": [
    {
     "name": "stdout",
     "output_type": "stream",
     "text": [
      "Database 'uk_food' was successfully created.\n"
     ]
    }
   ],
   "source": [
    "# 3 confirm that our new database was created\n",
    "# Confirm that our new database was created\n",
    "database_names = mongo.list_database_names()\n",
    "if \"uk_food\" in database_names:\n",
    "    print(\"Database 'uk_food' was successfully created.\")\n",
    "else:\n",
    "    print(\"Database 'uk_food' does not exist.\")\n"
   ]
  },
  {
   "cell_type": "code",
   "execution_count": 8,
   "id": "71e373c1",
   "metadata": {},
   "outputs": [],
   "source": [
    "# 4 assign the uk_food database to a variable name\n",
    "db = mongo['uk_food']"
   ]
  },
  {
   "cell_type": "code",
   "execution_count": 9,
   "id": "ef1b89ed",
   "metadata": {},
   "outputs": [
    {
     "name": "stdout",
     "output_type": "stream",
     "text": [
      "Collections in 'uk_food' database: ['establishments']\n"
     ]
    }
   ],
   "source": [
    "# Task 5: Review the collections in our new database\n",
    "collection_names = db.list_collection_names()\n",
    "print(f\"Collections in 'uk_food' database: {collection_names}\")\n"
   ]
  },
  {
   "cell_type": "code",
   "execution_count": 10,
   "id": "18ab463c",
   "metadata": {},
   "outputs": [
    {
     "name": "stdout",
     "output_type": "stream",
     "text": [
      "Collection: establishments\n",
      "Document Count: 39779\n",
      "\n"
     ]
    }
   ],
   "source": [
    "# Task 6: Review the collections in our new database\n",
    "for collection_name in collection_names:\n",
    "    print(f\"Collection: {collection_name}\")\n",
    "    collection = db[collection_name]\n",
    "    document_count = collection.count_documents({})\n",
    "    print(f\"Document Count: {document_count}\")\n",
    "    print()\n"
   ]
  },
  {
   "cell_type": "code",
   "execution_count": 12,
   "id": "f59fa20b",
   "metadata": {},
   "outputs": [],
   "source": [
    "# 7 assign the collection to a variable\n",
    "establishments = db['establishments']"
   ]
  },
  {
   "cell_type": "code",
   "execution_count": 13,
   "id": "6a0d92df",
   "metadata": {},
   "outputs": [
    {
     "name": "stdout",
     "output_type": "stream",
     "text": [
      "{'AddressLine1': '3 The Droveway',\n",
      " 'AddressLine2': 'St Margarets Bay',\n",
      " 'AddressLine3': 'Kent',\n",
      " 'AddressLine4': '',\n",
      " 'BusinessName': 'Boodles',\n",
      " 'BusinessType': 'Restaurant/Cafe/Canteen',\n",
      " 'BusinessTypeID': 1,\n",
      " 'ChangesByServerID': 0,\n",
      " 'Distance': 4587.638929767669,\n",
      " 'FHRSID': 1349980,\n",
      " 'LocalAuthorityBusinessID': 'PI/000084064',\n",
      " 'LocalAuthorityCode': '182',\n",
      " 'LocalAuthorityEmailAddress': 'publicprotection@dover.gov.uk',\n",
      " 'LocalAuthorityName': 'Dover',\n",
      " 'LocalAuthorityWebSite': 'http://www.dover.gov.uk/',\n",
      " 'NewRatingPending': False,\n",
      " 'Phone': '',\n",
      " 'PostCode': 'CT15 6DH',\n",
      " 'RatingDate': '2021-06-14T00:00:00',\n",
      " 'RatingKey': 'fhrs_5_en-gb',\n",
      " 'RatingValue': '5',\n",
      " 'RightToReply': '',\n",
      " 'SchemeType': 'FHRS',\n",
      " '_id': ObjectId('64f8e16bdadfa4dd97b79091'),\n",
      " 'geocode': {'latitude': '51.150879', 'longitude': '1.378536'},\n",
      " 'links': [{'href': 'https://api.ratings.food.gov.uk/establishments/1349980',\n",
      "            'rel': 'self'}],\n",
      " 'meta': {'dataSource': None,\n",
      "          'extractDate': '0001-01-01T00:00:00',\n",
      "          'itemCount': 0,\n",
      "          'pageNumber': 0,\n",
      "          'pageSize': 0,\n",
      "          'returncode': None,\n",
      "          'totalCount': 0,\n",
      "          'totalPages': 0},\n",
      " 'scores': {'ConfidenceInManagement': 5, 'Hygiene': 0, 'Structural': 5}}\n"
     ]
    }
   ],
   "source": [
    "# 8 Review a document in the establishments collection\n",
    "sample_document = establishments.find_one()\n",
    "pprint(sample_document)"
   ]
  },
  {
   "cell_type": "markdown",
   "id": "d5671434",
   "metadata": {},
   "source": [
    "## Part 2: Update the Database"
   ]
  },
  {
   "cell_type": "markdown",
   "id": "314bd884",
   "metadata": {},
   "source": [
    "1. An exciting new halal restaurant just opened in Greenwich, but hasn't been rated yet. The magazine has asked you to include it in your analysis. Add the following restaurant \"Penang Flavours\" to the database."
   ]
  },
  {
   "cell_type": "code",
   "execution_count": 17,
   "id": "c2da7648",
   "metadata": {},
   "outputs": [],
   "source": [
    "# 9 Create a dictionary for the new restaurant data\n",
    "\n",
    "new_restaurant_data = {\n",
    "    \"BusinessName\": \"Penang Flavours\",\n",
    "    \"BusinessType\": \"Restaurant/Cafe/Canteen\",\n",
    "    \"BusinessTypeID\": \"\",\n",
    "    \"AddressLine1\": \"Penang Flavours\",\n",
    "    \"AddressLine2\": \"146A Plumstead Rd\",\n",
    "    \"AddressLine3\": \"London\",\n",
    "    \"AddressLine4\": \"\",\n",
    "    \"PostCode\": \"SE18 7DY\",\n",
    "    \"Phone\": \"\",\n",
    "    \"LocalAuthorityCode\": \"511\",\n",
    "    \"LocalAuthorityName\": \"Greenwich\",\n",
    "    \"LocalAuthorityWebSite\": \"http://www.royalgreenwich.gov.uk\",\n",
    "    \"LocalAuthorityEmailAddress\": \"health@royalgreenwich.gov.uk\",\n",
    "    \"scores\": {\n",
    "        \"Hygiene\": \"\",\n",
    "        \"Structural\": \"\",\n",
    "        \"ConfidenceInManagement\": \"\"\n",
    "    },\n",
    "    \"SchemeType\": \"FHRS\",\n",
    "    \"geocode\": {\n",
    "        \"longitude\": \"0.08384000\",\n",
    "        \"latitude\": \"51.49014200\"\n",
    "    },\n",
    "    \"RightToReply\": \"\",\n",
    "    \"Distance\": 4623.9723280747176,\n",
    "    \"NewRatingPending\": True\n",
    "}\n"
   ]
  },
  {
   "cell_type": "code",
   "execution_count": 18,
   "id": "a6e5cece",
   "metadata": {},
   "outputs": [],
   "source": [
    "# 10 Insert the new restaurant into the collection\n",
    "inserted_id = establishments.insert_one(new_restaurant_data).inserted_id\n"
   ]
  },
  {
   "cell_type": "code",
   "execution_count": 19,
   "id": "63bb10f9",
   "metadata": {},
   "outputs": [
    {
     "name": "stdout",
     "output_type": "stream",
     "text": [
      "Inserted restaurant ID: 64f8e875147a8313a2262917\n"
     ]
    }
   ],
   "source": [
    "# 11 Check that the new restaurant was inserted\n",
    "print(f\"Inserted restaurant ID: {inserted_id}\")\n"
   ]
  },
  {
   "cell_type": "markdown",
   "id": "0ef4395a",
   "metadata": {},
   "source": [
    "2. Find the BusinessTypeID for \"Restaurant/Cafe/Canteen\" and return only the `BusinessTypeID` and `BusinessType` fields."
   ]
  },
  {
   "cell_type": "code",
   "execution_count": 20,
   "id": "93c63829",
   "metadata": {},
   "outputs": [],
   "source": [
    "# 12 Find the BusinessTypeID for \"Restaurant/Cafe/Canteen\" and return only the BusinessTypeID and BusinessType fields\n",
    "# Find the BusinessTypeID for \"Restaurant/Cafe/Canteen\" and return only the BusinessTypeID and BusinessType fields\n",
    "business_type_query = establishments.find_one(\n",
    "    {\"BusinessType\": \"Restaurant/Cafe/Canteen\"},\n",
    "    {\"BusinessTypeID\": 1, \"BusinessType\": 1}\n",
    ")\n"
   ]
  },
  {
   "cell_type": "markdown",
   "id": "4e570caf",
   "metadata": {},
   "source": [
    "3. Update the new restaurant with the `BusinessTypeID` you found."
   ]
  },
  {
   "cell_type": "code",
   "execution_count": 21,
   "id": "7f599f3d",
   "metadata": {},
   "outputs": [
    {
     "data": {
      "text/plain": [
       "<pymongo.results.UpdateResult at 0x7f7f4b63d7e0>"
      ]
     },
     "execution_count": 21,
     "metadata": {},
     "output_type": "execute_result"
    }
   ],
   "source": [
    "# 13 Update the new restaurant with the correct BusinessTypeID\n",
    "\n",
    "# Update the new restaurant with the correct BusinessTypeID\n",
    "business_type_id = business_type_query[\"BusinessTypeID\"]\n",
    "establishments.update_one(\n",
    "    {\"_id\": inserted_id},\n",
    "    {\"$set\": {\"BusinessTypeID\": business_type_id}}\n",
    ")\n"
   ]
  },
  {
   "cell_type": "code",
   "execution_count": 22,
   "id": "a6ad16f7",
   "metadata": {},
   "outputs": [
    {
     "name": "stdout",
     "output_type": "stream",
     "text": [
      "Updated Restaurant Data:\n",
      "{'AddressLine1': 'Penang Flavours',\n",
      " 'AddressLine2': '146A Plumstead Rd',\n",
      " 'AddressLine3': 'London',\n",
      " 'AddressLine4': '',\n",
      " 'BusinessName': 'Penang Flavours',\n",
      " 'BusinessType': 'Restaurant/Cafe/Canteen',\n",
      " 'BusinessTypeID': 1,\n",
      " 'Distance': 4623.972328074718,\n",
      " 'LocalAuthorityCode': '511',\n",
      " 'LocalAuthorityEmailAddress': 'health@royalgreenwich.gov.uk',\n",
      " 'LocalAuthorityName': 'Greenwich',\n",
      " 'LocalAuthorityWebSite': 'http://www.royalgreenwich.gov.uk',\n",
      " 'NewRatingPending': True,\n",
      " 'Phone': '',\n",
      " 'PostCode': 'SE18 7DY',\n",
      " 'RightToReply': '',\n",
      " 'SchemeType': 'FHRS',\n",
      " '_id': ObjectId('64f8e875147a8313a2262917'),\n",
      " 'geocode': {'latitude': '51.49014200', 'longitude': '0.08384000'},\n",
      " 'scores': {'ConfidenceInManagement': '', 'Hygiene': '', 'Structural': ''}}\n"
     ]
    }
   ],
   "source": [
    "# 14 Confirm that the new restaurant was updated\n",
    "updated_restaurant_data = establishments.find_one({\"_id\": inserted_id})\n",
    "print(\"Updated Restaurant Data:\")\n",
    "pprint(updated_restaurant_data)\n"
   ]
  },
  {
   "cell_type": "markdown",
   "id": "67281254",
   "metadata": {},
   "source": [
    "4. The magazine is not interested in any establishments in Dover, so check how many documents contain the Dover Local Authority. Then, remove any establishments within the Dover Local Authority from the database, and check the number of documents to ensure they were deleted."
   ]
  },
  {
   "cell_type": "code",
   "execution_count": 23,
   "id": "768474a6",
   "metadata": {},
   "outputs": [],
   "source": [
    "# 15 Find how many documents have LocalAuthorityName as \"Dover\"\n",
    "dover_count = establishments.count_documents({\"LocalAuthorityName\": \"Dover\"})\n"
   ]
  },
  {
   "cell_type": "code",
   "execution_count": 24,
   "id": "a11d5f1b",
   "metadata": {},
   "outputs": [],
   "source": [
    "# 16 Delete all documents where LocalAuthorityName is \"Dover\"\n",
    "delete_result = establishments.delete_many({\"LocalAuthorityName\": \"Dover\"})\n"
   ]
  },
  {
   "cell_type": "code",
   "execution_count": 29,
   "id": "2a51aba0",
   "metadata": {},
   "outputs": [
    {
     "name": "stdout",
     "output_type": "stream",
     "text": [
      "Remaining Dover Count = 0\n"
     ]
    }
   ],
   "source": [
    "# 17 Check if any remaining documents include Dover\n",
    "remaining_dover_count = establishments.count_documents({\"LocalAuthorityName\": \"Dover\"})\n",
    "print(f\"Remaining Dover Count = {remaining_dover_count}\")"
   ]
  },
  {
   "cell_type": "code",
   "execution_count": 33,
   "id": "8c356f7b",
   "metadata": {},
   "outputs": [
    {
     "name": "stdout",
     "output_type": "stream",
     "text": [
      "Remaining Document Count = 38787\n"
     ]
    }
   ],
   "source": [
    "# 18 Check that other documents remain with 'find_one'\n",
    "# remaining_document = establishments.find_one()\n",
    "# print(f\"Remaining Document Count = {remaining_document}\")\n",
    "\n",
    "# 18 Check how many documents remain after deleting Dover\n",
    "remaining_document_count = establishments.count_documents({})\n",
    "print(f\"Remaining Document Count = {remaining_document_count}\")"
   ]
  },
  {
   "cell_type": "markdown",
   "id": "e9f1662d",
   "metadata": {},
   "source": [
    "5. Some of the number values are stored as strings, when they should be stored as numbers."
   ]
  },
  {
   "cell_type": "markdown",
   "id": "c46df2df",
   "metadata": {},
   "source": [
    "Use `update_many` to convert `latitude` and `longitude` to decimal numbers."
   ]
  },
  {
   "cell_type": "code",
   "execution_count": 35,
   "id": "fd4112ce",
   "metadata": {},
   "outputs": [
    {
     "data": {
      "text/plain": [
       "<pymongo.results.UpdateResult at 0x7f7f4b7a51e0>"
      ]
     },
     "execution_count": 35,
     "metadata": {},
     "output_type": "execute_result"
    }
   ],
   "source": [
    "# 19 Change the data type from String to Decimal for longitude and latitude\n",
    "# Update longitude and latitude data type to Decimal\n",
    "establishments.update_many({}, [\n",
    "    {\"$set\": {\n",
    "        \"geocode.longitude\": {\"$toDouble\": \"$geocode.longitude\"},\n",
    "        \"geocode.latitude\": {\"$toDouble\": \"$geocode.latitude\"}\n",
    "    }}\n",
    "])"
   ]
  },
  {
   "cell_type": "markdown",
   "id": "142e319c",
   "metadata": {},
   "source": [
    "Use `update_many` to convert `RatingValue` to integer numbers."
   ]
  },
  {
   "cell_type": "code",
   "execution_count": 36,
   "id": "04430a5b",
   "metadata": {},
   "outputs": [
    {
     "data": {
      "text/plain": [
       "<pymongo.results.UpdateResult at 0x7f7f4b63cc40>"
      ]
     },
     "execution_count": 36,
     "metadata": {},
     "output_type": "execute_result"
    }
   ],
   "source": [
    "# 20 Set non 1-5 Rating Values to Null\n",
    "non_ratings = [\"AwaitingInspection\", \"Awaiting Inspection\", \"AwaitingPublication\", \"Pass\", \"Exempt\"]\n",
    "establishments.update_many({\"RatingValue\": {\"$in\": non_ratings}}, {\"$set\": {\"RatingValue\": None}})"
   ]
  },
  {
   "cell_type": "code",
   "execution_count": 38,
   "id": "92524ccc",
   "metadata": {},
   "outputs": [
    {
     "data": {
      "text/plain": [
       "<pymongo.results.UpdateResult at 0x7f7f4b5a5330>"
      ]
     },
     "execution_count": 38,
     "metadata": {},
     "output_type": "execute_result"
    }
   ],
   "source": [
    "# 21 Change the data type from String to Integer for RatingValue\n",
    "establishments.update_many({\"RatingValue\": {\"$type\": \"string\"}}, [\n",
    "    {\"$set\": {\"RatingValue\": {\"$toInt\": \"$RatingValue\"}}}\n",
    "])"
   ]
  },
  {
   "cell_type": "code",
   "execution_count": 39,
   "id": "0deacaf9",
   "metadata": {},
   "outputs": [
    {
     "name": "stdout",
     "output_type": "stream",
     "text": [
      "Updated Document (Sample): {'_id': ObjectId('64f8e16bdadfa4dd97b79376'), 'FHRSID': 1043695, 'ChangesByServerID': 0, 'LocalAuthorityBusinessID': 'PI/000073616', 'BusinessName': 'The Pavilion', 'BusinessType': 'Restaurant/Cafe/Canteen', 'BusinessTypeID': 1, 'AddressLine1': 'East Cliff Pavilion', 'AddressLine2': 'Wear Bay Road', 'AddressLine3': 'Folkestone', 'AddressLine4': 'Kent', 'PostCode': 'CT19 6BL', 'Phone': '', 'RatingValue': 5, 'RatingKey': 'fhrs_5_en-gb', 'RatingDate': '2018-04-04T00:00:00', 'LocalAuthorityCode': '188', 'LocalAuthorityName': 'Folkestone and Hythe', 'LocalAuthorityWebSite': 'http://www.folkestone-hythe.gov.uk', 'LocalAuthorityEmailAddress': 'foodteam@folkestone-hythe.gov.uk', 'scores': {'Hygiene': 5, 'Structural': 5, 'ConfidenceInManagement': 5}, 'SchemeType': 'FHRS', 'geocode': {'longitude': 1.195625, 'latitude': 51.083812}, 'RightToReply': '', 'Distance': 4591.765489457773, 'NewRatingPending': False, 'meta': {'dataSource': None, 'extractDate': '0001-01-01T00:00:00', 'itemCount': 0, 'returncode': None, 'totalCount': 0, 'totalPages': 0, 'pageSize': 0, 'pageNumber': 0}, 'links': [{'rel': 'self', 'href': 'https://api.ratings.food.gov.uk/establishments/1043695'}]}\n"
     ]
    }
   ],
   "source": [
    "# 22 Check that the coordinates and rating value are now numbers\n",
    "sample_updated_document = establishments.find_one()\n",
    "print(f\"Updated Document (Sample): {sample_updated_document}\")"
   ]
  },
  {
   "cell_type": "code",
   "execution_count": null,
   "id": "0285fe79",
   "metadata": {},
   "outputs": [],
   "source": []
  }
 ],
 "metadata": {
  "kernelspec": {
   "display_name": "Python 3 (ipykernel)",
   "language": "python",
   "name": "python3"
  },
  "language_info": {
   "codemirror_mode": {
    "name": "ipython",
    "version": 3
   },
   "file_extension": ".py",
   "mimetype": "text/x-python",
   "name": "python",
   "nbconvert_exporter": "python",
   "pygments_lexer": "ipython3",
   "version": "3.10.9"
  }
 },
 "nbformat": 4,
 "nbformat_minor": 5
}
